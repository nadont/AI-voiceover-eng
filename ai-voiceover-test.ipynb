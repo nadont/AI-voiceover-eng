{
 "cells": [
  {
   "cell_type": "code",
   "execution_count": 4,
   "id": "2756a423",
   "metadata": {},
   "outputs": [],
   "source": [
    "text = \"\"\"\n",
    "Sawadee krub.\n",
    "\n",
    "Thailand — a beautiful country in Southeast Asia, home to around 70 million people.\n",
    "\n",
    "But did you know that, according to data from the Joshua Project, over 77% of the Thai population is still considered unreached?  \n",
    "The vast majority — about 94% — follow Buddhism.  \n",
    "Roughly 5% are Muslim.  \n",
    "And only 1% identify as Christian.\n",
    "\n",
    "That means more than 50 million people in Thailand have not yet had the opportunity to encounter the gospel of Jesus Christ.\n",
    "\n",
    "Christian Medical Fellowship Thailand, or CMF Thailand, is a movement of Thai Christian medical and dental students and professionals — passionate about serving Christ in the healthcare field.\n",
    "\n",
    "Before 2016, Christian doctors and dentists across Thailand gathered in small groups.  \n",
    "They met in hospitals and universities for Bible study and prayer.  \n",
    "Some were connected to the Thai Healthcare Christian Fellowship — but there was no national network specifically for doctors and dentists.\n",
    "\n",
    "That changed in 2016.\n",
    "\n",
    "A few young Thai Christian medical and dental students and doctors were introduced to ICMDA and other CMF movements in the region.  \n",
    "Inspired by the vision of bringing transformation through medicine and faith, they felt called to gather, encourage, and equip one another.\n",
    "\n",
    "With support from Southeast Asia leaders and CMF UK, CMF Thailand held its first annual student conference in 2017 — titled “The Faith’s Anatomy.”  \n",
    "And the movement began to grow.\n",
    "\n",
    "Our vision is simple, but powerful:  \n",
    "Christian doctors and dentists who bring transformation to Thailand as disciples of Christ.\n",
    "\n",
    "This vision calls us to live not only as healthcare professionals, but as followers of Jesus in every aspect of life.\n",
    "\n",
    "Our mission starts with discipleship and fellowship:\n",
    "\n",
    "- We run an online cell group alternating with prayer group every Sunday evening.  \n",
    "- Many join weekly Bible study groups in universities — tailored for medical and dental students.  \n",
    "- Every year, we hold a national retreat camp — a time for worship, teaching, and encouragement.  \n",
    "- Special events like “Intern Boost” and “Burnout” help equip our members to walk faithfully and serve boldly.  \n",
    "- We also hold an annual fellowship with CMF Korea.  \n",
    "- And we’re actively involved in international gatherings like ICMDA and SEAchange — building global community and vision.\n",
    "\n",
    "We also collaborate with partners like TCS (Thai Christian Students), THCF (Healthcare Christian Fellowship Thailand), and local churches.\n",
    "\n",
    "Our second mission is to be witnesses of Jesus Christ in our hospitals and communities.\n",
    "\n",
    "This includes:\n",
    "\n",
    "- Saline Process Witness Training — empowering Christian healthcare workers to share their faith naturally and respectfully.  \n",
    "- Online seminars on medical ethics, social issues, and serving in mission hospitals.  \n",
    "- And every year, we join mobile medical units to rural communities — bringing healthcare, prayer, and the love of Christ.\n",
    "\n",
    "In the past year, we’ve seen God’s hand in many ways:\n",
    "\n",
    "- Our online and onsite cell groups continued to thrive.  \n",
    "- We held our “Stay Abide” annual conference for medical and dental students.  \n",
    "- We reconnected with CMF Korea, sharing testimonies and fellowship in prayer.  \n",
    "- In partnership with THCF, we provided Saline Process training in Bangkok, Chiang Mai, and Pitsanulok provinces.  \n",
    "- And through our mobile medical outreach, we witnessed the tangible love of Christ in underserved communities.\n",
    "\n",
    "And this year, we are honored and excited to host SEAMMC 2025 in Bangkok!\n",
    "\n",
    "Looking ahead, we plan to:\n",
    "\n",
    "- Organize our next national student conference.  \n",
    "- Launch an onsite cell group in Bangkok — reaching more young professionals where they are.\n",
    "\n",
    "But with these opportunities come challenges.\n",
    "\n",
    "So we humbly ask for your prayers:\n",
    "\n",
    "- Pray that our fellowship will grow stronger, and our discipleship go deeper.  \n",
    "- Pray that more students and graduates will catch the vision of CMF and join our community.  \n",
    "- And pray for wisdom, boldness, and God's guidance — that we may truly be salt and light in this nation through medicine and dentistry.\n",
    "\n",
    "We believe Jesus is the ultimate healer — of bodies, hearts, and nations.\n",
    "\n",
    "May God continue to use CMF movements across Thailand and beyond for His kingdom.\n",
    "\n",
    "Thank you so much for your support, and your prayers.\n",
    "\n",
    "Khop khun krub, and God bless you.\n",
    "\"\"\""
   ]
  },
  {
   "cell_type": "code",
   "execution_count": 6,
   "id": "75eb4d3d",
   "metadata": {},
   "outputs": [],
   "source": [
    "import edge_tts\n",
    "import nest_asyncio\n",
    "import asyncio\n",
    "nest_asyncio.apply()\n",
    "\n",
    "# Async function\n",
    "async def generate_voice():\n",
    "    communicate = edge_tts.Communicate(\n",
    "        text=text,\n",
    "        voice=\"en-US-MichelleNeural\",\n",
    "        rate=\"+10%\"\n",
    "    )\n",
    "    await communicate.save(\"CMF_Thailand_FemaleVoice.mp3\")\n",
    "\n",
    "await generate_voice()"
   ]
  },
  {
   "cell_type": "code",
   "execution_count": null,
   "id": "38c9fc5e",
   "metadata": {},
   "outputs": [
    {
     "name": "stdout",
     "output_type": "stream",
     "text": [
      "Voice-over MP3 saved as 'CMF_Thailand_Voiceover.mp3'\n"
     ]
    }
   ],
   "source": [
    "from gtts import gTTS\n",
    "\n",
    "# Voice-over script text\n",
    "\n",
    "\n",
    "# Generate TTS\n",
    "tts = gTTS(text=text, lang='en', tld='us')\n",
    "\n",
    "# Save as MP3\n",
    "tts.save(\"CMF_Thailand_Voiceover.mp3\")\n",
    "\n",
    "print(\"Voice-over MP3 saved as 'CMF_Thailand_Voiceover.mp3'\")\n"
   ]
  },
  {
   "cell_type": "code",
   "execution_count": 12,
   "id": "813fdef0",
   "metadata": {},
   "outputs": [
    {
     "name": "stdout",
     "output_type": "stream",
     "text": [
      "✔ Saved voice-over as 'CMF_Thailand_MaleVoice.mp3'\n"
     ]
    }
   ],
   "source": [
    "import edge_tts\n",
    "import nest_asyncio\n",
    "import asyncio\n",
    "\n",
    "nest_asyncio.apply()  # Allows nested event loops (for Jupyter/IPython)\n",
    "\n",
    "# Assuming your text is already defined above\n",
    "async def generate_voice():\n",
    "    communicate = edge_tts.Communicate(\n",
    "        text=text,\n",
    "        voice=\"en-US-GuyNeural\",\n",
    "        rate=\"+10%\"\n",
    "    )\n",
    "    await communicate.save(\"CMF_Thailand_MaleVoice.mp3\")\n",
    "\n",
    "await generate_voice()  # Works inside existing event loop\n",
    "print(\"✔ Saved voice-over as 'CMF_Thailand_MaleVoice.mp3'\")\n"
   ]
  }
 ],
 "metadata": {
  "kernelspec": {
   "display_name": "Python 3",
   "language": "python",
   "name": "python3"
  },
  "language_info": {
   "codemirror_mode": {
    "name": "ipython",
    "version": 3
   },
   "file_extension": ".py",
   "mimetype": "text/x-python",
   "name": "python",
   "nbconvert_exporter": "python",
   "pygments_lexer": "ipython3",
   "version": "3.10.11"
  }
 },
 "nbformat": 4,
 "nbformat_minor": 5
}
